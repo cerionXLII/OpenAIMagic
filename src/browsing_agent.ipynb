{
 "cells": [
  {
   "cell_type": "markdown",
   "metadata": {},
   "source": [
    "# Browsing Agent\n",
    "This notebook will use the internet to download content like pdfs. Then an LLM will decide which files to keep. Next it will create a vector index of the files, for easy RAG."
   ]
  },
  {
   "cell_type": "code",
   "execution_count": 2,
   "metadata": {},
   "outputs": [
    {
     "name": "stdout",
     "output_type": "stream",
     "text": [
      "The autoreload extension is already loaded. To reload it, use:\n",
      "  %reload_ext autoreload\n"
     ]
    }
   ],
   "source": [
    "#imports\n",
    "%load_ext autoreload\n",
    "%autoreload 2\n",
    "import os\n",
    "from open_agent import OpenAgent\n",
    "from config import Config\n",
    "from IPython.display import display\n",
    "import numpy as np\n",
    "from transformers import CLIPProcessor, CLIPModel\n",
    "import requests\n",
    "from googlesearch import search\n",
    "import PyPDF2\n",
    "import faiss\n",
    "import regex as re\n"
   ]
  },
  {
   "cell_type": "code",
   "execution_count": 3,
   "metadata": {},
   "outputs": [],
   "source": [
    "# Function to search for PDF URLs using a query\n",
    "def search_pdf_urls(query, num_results=10):\n",
    "    pdf_urls = []\n",
    "    for url in search(query, num_results=num_results):\n",
    "        # Optionally check if the URL really ends with '.pdf'\n",
    "        if url.lower().endswith(\".pdf\"):\n",
    "            pdf_urls.append(url)\n",
    "    return pdf_urls"
   ]
  },
  {
   "cell_type": "code",
   "execution_count": 4,
   "metadata": {},
   "outputs": [],
   "source": [
    "# Function to download a PDF file from a given URL\n",
    "def download_pdf(url, dest_folder=\"downloads\"):\n",
    "    if not os.path.exists(dest_folder):\n",
    "        os.makedirs(dest_folder)\n",
    "    local_filename = os.path.join(dest_folder, url.split(\"/\")[-1])\n",
    "    try:\n",
    "        with requests.get(url, stream=True) as r:\n",
    "            r.raise_for_status()\n",
    "            with open(local_filename, 'wb') as f:\n",
    "                for chunk in r.iter_content(chunk_size=8192):\n",
    "                    f.write(chunk)\n",
    "        print(f\"Downloaded: {local_filename}\")\n",
    "        return local_filename\n",
    "    except Exception as e:\n",
    "        print(f\"Error downloading {url}: {e}\")\n",
    "        return None"
   ]
  },
  {
   "cell_type": "code",
   "execution_count": 5,
   "metadata": {},
   "outputs": [],
   "source": [
    "# Function to extract metadata (e.g., creation date) from the PDF\n",
    "def extract_pdf_metadata(pdf_path):\n",
    "    metadata = {}\n",
    "    try:\n",
    "        with open(pdf_path, \"rb\") as f:\n",
    "            reader = PyPDF2.PdfReader(f)\n",
    "            metadata = reader.metadata\n",
    "    except Exception as e:\n",
    "        print(f\"Error reading {pdf_path}: {e}\")\n",
    "    return metadata"
   ]
  },
  {
   "cell_type": "code",
   "execution_count": 6,
   "metadata": {},
   "outputs": [],
   "source": [
    "# Function to extract text from the first few pages of the PDF\n",
    "def extract_pdf_text(pdf_path, max_pages=3):\n",
    "    text = \"\"\n",
    "    try:\n",
    "        with open(pdf_path, \"rb\") as f:\n",
    "            reader = PyPDF2.PdfReader(f)\n",
    "            num_pages = len(reader.pages)\n",
    "            pages_to_read = min(num_pages, max_pages)\n",
    "            for i in range(pages_to_read):\n",
    "                page = reader.pages[i]\n",
    "                page_text = page.extract_text()\n",
    "                if page_text:\n",
    "                    text += page_text + \"\\n\"\n",
    "    except Exception as e:\n",
    "        print(f\"Error extracting text from {pdf_path}: {e}\")\n",
    "    return text"
   ]
  },
  {
   "cell_type": "code",
   "execution_count": 7,
   "metadata": {},
   "outputs": [],
   "source": [
    "agent = OpenAgent(api_key=Config.api_key)"
   ]
  },
  {
   "cell_type": "code",
   "execution_count": 8,
   "metadata": {},
   "outputs": [],
   "source": [
    "def analyze_pdf(pdf_text, context):\n",
    "    # Analyze the pdf text together with the context.\n",
    "    # Next we try to see if it is relevant to the context or not\n",
    "    # Build our XML prompt\n",
    "    prompt = f\"\"\"\n",
    "        <prompt>\n",
    "            <objective>Given the following document text as extracted from a PDF, decide if it is relevant to the context or not</objective>\n",
    "            <instuctions>\n",
    "                <instruction>\n",
    "                    Analyze the document text in the section \"document_text\" and the context in the section \"context\" and decide if the document is relevant to the context or not.\n",
    "                </instruction>\n",
    "                <instruction>\n",
    "                    It is important that the brand name is the same in the document and the context.\n",
    "                </instruction>\n",
    "                <instruction>\n",
    "                    Answer with \"True\" if the document is relevant to the context, and \"False\" if it is not.\n",
    "                </instruction>\n",
    "            </instuctions>\n",
    "            <document_text>\n",
    "                {pdf_text}\n",
    "            </document_text>\n",
    "            <context>\n",
    "                {context}   \n",
    "            </context>\n",
    "\n",
    "        </prompt>\"\"\"\n",
    "    \n",
    "    # Send the prompt to the OpenAI API\n",
    "    response = agent.chat(text=prompt)\n",
    "    # Try to extract the response as True or False\n",
    "    try:\n",
    "        output = response.lower()\n",
    "        if output == \"true\":\n",
    "            return True\n",
    "        elif output == \"false\":\n",
    "            return False\n",
    "    except Exception as e:\n",
    "        print(f\"Error extracting response: {e}\")\n",
    "\n",
    "\n",
    " "
   ]
  },
  {
   "cell_type": "code",
   "execution_count": 9,
   "metadata": {},
   "outputs": [],
   "source": [
    "brand = \"mölnycke mepilex border flex\"\n",
    "#brand = \"mölnycke mepilex border\"\n",
    "#brand = \"mölnycke Mepilex Border Heel\"\n",
    "#brand = \"Essity Libero Touch\"\n",
    "product_type = \"product sheet\"\n"
   ]
  },
  {
   "cell_type": "code",
   "execution_count": 10,
   "metadata": {},
   "outputs": [
    {
     "name": "stdout",
     "output_type": "stream",
     "text": [
      "Searching for PDFs...\n",
      "Found 8 PDF URLs.\n",
      "\n",
      "Processing URL: https://www.molnlycke.com/globalassets/mepilex-border-flex-hqim005406.pdf\n",
      "Downloaded: downloads\\mepilex-border-flex-hqim005406.pdf\n",
      "\n",
      "Processing URL: https://www.molnlycke.ca/contentassets/3a0ad2ec58d848169ae7391bb4370689/mepilexborderflex_productsheet_eng-1.pdf\n",
      "Downloaded: downloads\\mepilexborderflex_productsheet_eng-1.pdf\n",
      "\n",
      "Processing URL: https://www.onemed.se/-/media/onemed/b2b/ligu/molnlycke/produktblad---mepilex-border-flex.pdf\n",
      "Downloaded: downloads\\produktblad---mepilex-border-flex.pdf\n",
      "\n",
      "Processing URL: https://static.webareacontrol.com/CommonFile/mepilexborderflex-product-sheet-1647325121893.pdf\n",
      "Downloaded: downloads\\mepilexborderflex-product-sheet-1647325121893.pdf\n",
      "\n",
      "Processing URL: https://www.onemed.se/-/media/onemed/b2b/ligu/molnlycke/broschyr---mepilex-border-flex.pdf\n",
      "Downloaded: downloads\\broschyr---mepilex-border-flex.pdf\n",
      "\n",
      "Processing URL: https://briggatemedical.com/wp-content/uploads/wpallimport/files/resource/MepilexBorderFlex.pdf\n",
      "Downloaded: downloads\\MepilexBorderFlex.pdf\n",
      "\n",
      "Processing URL: https://k2medical.co.za/wp-content/uploads/2020/10/Mepilex-Border-Flex-Family-Product-Sheet.pdf\n",
      "Downloaded: downloads\\Mepilex-Border-Flex-Family-Product-Sheet.pdf\n",
      "\n",
      "Processing URL: https://woundsinternational.com/wp-content/uploads/2023/02/860717d3e8b7e304716c715e0e22f787.pdf\n",
      "Downloaded: downloads\\860717d3e8b7e304716c715e0e22f787.pdf\n"
     ]
    }
   ],
   "source": [
    "# Construct the search query. The filetype operator helps to target PDFs.\n",
    "query = f\"{brand} {product_type} filetype:pdf\"\n",
    "print(\"Searching for PDFs...\")\n",
    "pdf_urls = search_pdf_urls(query, num_results=10)\n",
    "print(f\"Found {len(pdf_urls)} PDF URLs.\")\n",
    "\n",
    "relevant_pdfs = []\n",
    "# Process each found PDF\n",
    "for url in pdf_urls:\n",
    "    print(f\"\\nProcessing URL: {url}\")\n",
    "    file_path = download_pdf(url)\n",
    "    if not file_path:\n",
    "        continue\n",
    "    \n",
    "   "
   ]
  },
  {
   "cell_type": "code",
   "execution_count": 11,
   "metadata": {},
   "outputs": [
    {
     "data": {
      "text/plain": [
       "['downloads\\\\860717d3e8b7e304716c715e0e22f787.pdf',\n",
       " 'downloads\\\\broschyr---mepilex-border-flex.pdf',\n",
       " 'downloads\\\\Mepilex-Border-Flex-Family-Product-Sheet.pdf',\n",
       " 'downloads\\\\mepilex-border-flex-hqim005406.pdf',\n",
       " 'downloads\\\\mepilexborderflex-product-sheet-1647325121893.pdf',\n",
       " 'downloads\\\\MepilexBorderFlex.pdf',\n",
       " 'downloads\\\\mepilexborderflex_productsheet_eng-1.pdf',\n",
       " 'downloads\\\\produktblad---mepilex-border-flex.pdf']"
      ]
     },
     "execution_count": 11,
     "metadata": {},
     "output_type": "execute_result"
    }
   ],
   "source": [
    "# Extract the pdf files from the downloads folder\n",
    "folder = \"downloads\"\n",
    "# append the folder to the file path\n",
    "pdf_files = [os.path.join(folder, f) for f in os.listdir(folder) if f.endswith(\".pdf\")]\n",
    "pdf_files"
   ]
  },
  {
   "cell_type": "markdown",
   "metadata": {},
   "source": [
    "# Filter the PDFs\n",
    "See if the data is valid for our use case."
   ]
  },
  {
   "cell_type": "code",
   "execution_count": 12,
   "metadata": {},
   "outputs": [
    {
     "name": "stdout",
     "output_type": "stream",
     "text": [
      "We want to match a product with the brand name: mölnycke mepilex border flex to the product sheet (pdf). The manufacturer should be Mölnlycke. The pdf should be a product sheet.\n",
      "downloads\\860717d3e8b7e304716c715e0e22f787.pdf Is Relevant: True\n",
      "downloads\\broschyr---mepilex-border-flex.pdf Is Relevant: True\n",
      "downloads\\Mepilex-Border-Flex-Family-Product-Sheet.pdf Is Relevant: True\n",
      "downloads\\mepilex-border-flex-hqim005406.pdf Is Relevant: True\n",
      "downloads\\mepilexborderflex-product-sheet-1647325121893.pdf Is Relevant: True\n",
      "downloads\\MepilexBorderFlex.pdf Is Relevant: True\n",
      "downloads\\mepilexborderflex_productsheet_eng-1.pdf Is Relevant: True\n",
      "downloads\\produktblad---mepilex-border-flex.pdf Is Relevant: True\n"
     ]
    }
   ],
   "source": [
    "company = \"Mölnlycke\"\n",
    "#company = \"Essity\"\n",
    "context = f\"We want to match a product with the brand name: {brand} to the product sheet (pdf). The manufacturer should be {company}. The pdf should be a product sheet.\"\n",
    "print(context)\n",
    "relevant_pdfs = []\n",
    "for file_path in pdf_files:\n",
    "    #print(f'Analyzing PDF: {file_path}')\n",
    "    # Extract metadata such as creation date\n",
    "    # metadata = extract_pdf_metadata(file_path)\n",
    "    # creation_date = metadata.get(\"/CreationDate\", \"Unknown\")\n",
    "    # print(f\"Creation Date (from metadata): {creation_date}\")\n",
    "\n",
    "    # Extract text from the PDF \n",
    "    pdf_text = extract_pdf_text(file_path, max_pages=10)\n",
    "\n",
    "    # See if the PDF is relevant to the context\n",
    "    is_relevant = analyze_pdf(pdf_text, context)\n",
    "    print(f\"{file_path} Is Relevant: {is_relevant}\")\n",
    "    if is_relevant:\n",
    "        relevant_pdfs.append(file_path)"
   ]
  },
  {
   "cell_type": "markdown",
   "metadata": {},
   "source": [
    "# Query the data\n",
    "Ask questions about the data using the PDFs and an LLM\n"
   ]
  },
  {
   "cell_type": "code",
   "execution_count": null,
   "metadata": {},
   "outputs": [
    {
     "name": "stdout",
     "output_type": "stream",
     "text": [
      "| Article Number | Size (cm) | Size (inch) | Source File Name                                |\n",
      "|----------------|-----------|--------------|-------------------------------------------------|\n",
      "| 595211         | 7.5 x 7.5 | 3 x 3        | Mepilex-Border-Flex-Family-Product-Sheet.pdf   |\n",
      "| 595311         | 10 x 10   | 4 x 4        | Mepilex-Border-Flex-Family-Product-Sheet.pdf   |\n",
      "| 595011         | 12.5 x 12.5 | 5 x 5      | Mepilex-Border-Flex-Family-Product-Sheet.pdf   |\n",
      "| 595411         | 15 x 15   | 6 x 6        | Mepilex-Border-Flex-Family-Product-Sheet.pdf   |\n",
      "| 595611         | 15 x 20   | 6 x 8        | Mepilex-Border-Flex-Family-Product-Sheet.pdf   |\n",
      "| 583500         | 7.8 x 10  | 3.1 x 4      | Mepilex-Border-Flex-Family-Product-Sheet.pdf   |\n",
      "| 583300         | 13 x 16   | 5.1 x 6.3    | Mepilex-Border-Flex-Family-Product-Sheet.pdf   |\n",
      "| 583400         | 15 x 19   | 6 x 7.5      | Mepilex-Border-Flex-Family-Product-Sheet.pdf   | \n",
      "\n",
      "This summarizes the available sizes for the Mepilex Border Flex. Each size is paired with its respective article number and the source file where the information was extracted from.\n"
     ]
    }
   ],
   "source": [
    "# Take the full text of all relevant pdfs and add them in a RAG response\n",
    "main_query = 'Extract the available sizes from the product sheet, only answer with information that belongs to Mepilex Border. Include the article number for each row. Answer with a table.'\n",
    "#main_query = 'Extract the available sizes from the product sheet together with their arcticle number. Answer with a table.'\n",
    "#main_query = f'Summarize the data as a higly informative product description in a few sentenses. Only information relevant to the brand {brand} should be included.'\n",
    "# Iterate over the relevant PDFs and update the query\n",
    "\n",
    "\n",
    "files_xml = \"\"\n",
    "files_xml = \"\"\n",
    "for file_path in relevant_pdfs:\n",
    "    file_name = os.path.basename(file_path)\n",
    "    file_content = extract_pdf_text(file_path)\n",
    "    # Create an XML-like structure for each file.\n",
    "    files_xml += f\"<file>\\n  <name>{file_name}</name>\\n  <file_content>{file_content}</file_content>\\n</file>\\n\"\n",
    "\n",
    "\n",
    "query = f\"\"\"\n",
    "    <prompt>\n",
    "        <objective>Answer the main query by extracting the information from the product sheets. The main quary is in \"main_query\" and the content is in \"content\". Each file has its own \"file\" where \"name\" is the name of the pdf file, the \"file_content\" is the actual pdf text.</objective>\n",
    "        <main_query>\n",
    "            {main_query}\n",
    "        </main_query>\n",
    "        <instruction>\n",
    "            For each piece of extracted information, provide the source file name.\n",
    "        </instruction>\n",
    "        <content>\n",
    "            {files_xml}\n",
    "        </content>\n",
    "    </prompt>\n",
    "\"\"\"\n",
    "\n",
    "response = agent.chat(text=query)\n",
    "print(response)"
   ]
  },
  {
   "cell_type": "code",
   "execution_count": 15,
   "metadata": {},
   "outputs": [
    {
     "data": {
      "text/plain": [
       "'•Flex-teknologin gör att förbandet kan sträckas i\\nalla riktningar, följer kroppens rörelser och inte\\nlossnar i förtid9,10\\n•Med Flex-teknologin kan förbandet sitta på\\nplats längre tack vare mindre påfrestning på\\nkanterna och minskad risk att förbandet\\nrullar\\xa0sig1,14•Den följsamma sårdynan ger\\nökad\\xa0patientkomfort1,14\\n•Mepilex® Border Flex har bevisad förmåga\\natt\\xa0hantera mer vätska än något annat\\nallt-i-ett skumförband4,5\\n•Förbandet är tunt och diskret även när det ärfyllt med sårvätska\\n6,10Safetac® mot sårytan\\n• Mindre smärta vid förbandsbyte7,11\\n• Fastnar inte i såret12,13\\n• Sluter kring sårkanterna vilket \\nförhindrar maceration7Mepilex® Border Flex\\nFlex-teknologi\\n• Överlägsen flexibilitet8\\nsom gör att förbandet sitter på bättre jämfört med förband utan Flex-teknologi\\n9,10Absorberande skumlager\\n• Suger omedelbart upp sårvätska och förhindrar läckage, vilket skyddar den omkringliggande huden\\n7Baksidesfilm med mycket god andningsbarhet\\n• Barriär mot bakterier och virus*1\\n• Duschbart2\\n• Mönster för kontroll av sårvätskansspridning\\n• God andningsbarhet ger längrebärtid\\n3\\n*Mikrober större än 25 nmRetentionslager med super-  \\nabsorbenter\\n• Effektiv hantering av olikatyper\\xa0av sårvätska\\n4,5\\n• Diskret och tunt6\\n• Kapslar in sårvätskan och minskar risken för läckage och maceration\\nSpridningsskikt\\n• Fördelar sårvätskan jämnt \\növer hela förbandet3\\n• Förbättrar retentionslagretseffekt och baksidesfilmens andningsförmågaNYHET\\nFlexibelt allt-i-ett skumförband\\nSå här använder du Mepilex® Border Flex\\nReferenser: 1. Nelson Laboratories rapport 322509. Arkivdata. 2. Mölnlycke Health Care laboratorierapport PD-532095. Arkivdata. 3. Mölnlycke Health Care laboratorierapport PD-528874. Arkivdata.  \\n4. Mölnlycke Health Care Rapport PD-528871. Arkivdata. 5. Mölnlycke Health Care laboratorierapport PD-527642. Arkivdata. 6. Mölnlycke Health Care laboratorierapport PD-525458. Arkivdata.  \\n7. Davies, P., Rippon, M. Evidence review. The clinical and economic benefits of Safetac technology in wound care. Medical Communications UK: Holsworthy, Storbritannien, 2011. 8. Mölnlycke Health Care \\nlaboratorierapport PD-528870. Arkivdata. 9. ProDerm study report 16.0180-23. Assessment of wearing properties of wound dressings on the knees. Arkivdata. 10. ProDerm study report 16.0180-23. \\nAssessment of wearing properties of wound dressings on the elbows. Arkivdata. 11. White R. A multinational survey of the assessment of pain when removing dressings. Wounds UK 2008;4(1):14-22. \\n12. White  R et al. Evidence for atraumatic soft silicone wound dressing use. Wounds UK, 2005. 13. Wiberg A.B. et al. Preventing maceration with a soft silicone dressing: in-vitro evaluations. Poster presenterad \\nvid den 3:e kongressen WUWHS, Toronto, Kanada, 2008. 14. ALTEN Finite Element Modelling simulation. Laboratorierapport nr .PD-530246. 15. Mölnlycke Health Care. Mepilex Border Flex – Fluid handling \\ncapacity. Rapportnr. PD-527642. Arkivdata. 16. Surgical Materials Testing Laboratory report 15/4962/1. 17. Mölnlycke Health Care. Mepilex Border Flex- Bacteria encapsulation. Rapportnr. PD-537072. \\nArkivdata. 18. Woo, K. & Bergström, C. A randomized crossover investigation of pain at dressing change comparing 2 foam dressings. Advances in Skin and Wound Care 22 (7): 304-310, 2009.\\nLäs mer på www.molnlycke.se\\nMölnlycke Health Care AB Box 13080, Gamlestadsvägen 3 C, 402 52 Göteborg. Tfn. 031-722 30 00 \\nMölnlycke-, Mepilex- och Safetac-  varumärkena, namnen och logotyperna är globalt registrerade av ett eller flera företag i \\nMölnlycke Health Care-koncernen. ©2011 Mölnlycke Health Care AB. Med ensamrätt. HQWC0195\\nAquacel är ett registrerat varumärke som tillhör ConvaTec, Inc. | Allevyn är ett registrerat varumärke som tillhör Smith & Nephew, \\nInc. | Kliniderm är ett varumärke som tillhör Mediq B.V.Mepilex Border Flex (steril singelförpackad)\\nArt. nr  Storlek\\xa0cm Antal/Avd fp Antal/Trp fp\\n595200 7,5 x 7,5 5 50\\n595300 10 x 10 5 50\\n595000 12,5 x 12,5 5 50\\n595400 15 x 15 5 50\\n595600 15 x 20 5 50\\n  595800* 10 x 20 10 60\\n  595850* 10 x 25 10 60\\n  595900* 10 x 30 10 40Tredelad skyddsfilm (storlek 15x15 \\noch uppåt) underlättar säker applicering. Kom ihåg att ta bort skyddsfilmerna en efter en samtidigt som du långsamt fäster förbandet över sårområdet. Sträck inte förbandet när du sätter fast det och ta inte bort alla skyddsfilmerna\\xa0samtidigt.\\nDet unika spridningsskiktet (se bild nedan) möjliggör bättre utnyttjande av \\nsårdynan och ger en överlägsen hantering av sårvätska\\n8,10. Bilderna ovan \\nvisar hur sårvätskan sprider sig i förbandet; ytan med sårvätska på förbandets \\nutsida ser mycket större ut än ytan som vetter mot såret.\\nMepilex® \\nBorder FlexKliniderm® \\nFoam Silicone \\nBorderAquacel® \\nFoam\\nAndningsbarhet AbsorptionAllevyn® Classic \\nGentle BorderAllevyn® Life12,1\\n1,46,55,84,99,1\\n6,44,95,19,4[g/10 cm2/24 h]Hur fungerar Mepilex Border Flex?\\nMepilex Border Flex är ett extra flexibelt och följsamt allt-i-ett-\\nskumförband. Det har utvecklats för att hantera stora mängder vätska, både normal och mer trögflytande\\n3,4. Flexibiliteten i \\nkombination med den överlägsna vätskehanteringen gör att förbandet kan sitta kvar längre\\n3,4,5,9,10.\\n*För beställning 2018\\nÖverlägsen hantering av sårvätska15,16\\nFörbandet suger snabbt upp sårvätska som innehåller bakterier. En unik kombination av Flex-teknologi och fler superabsorberande fibrer bidrar till att sårvätskan med bakterierna förflyttas genom de olika lagren i förbandet. Retentionslagret kaplar in sårvätskan och bakterierna vilket förhindrar att det läcker tillbaka sårbädden, även under\\xa0tryck\\n17.\\nAnvändningsområden\\nMepilex Border Flex är utvecklat för att hantera flera olika typer av normala och mer trögflytande vätskor. Förbandet kan användas under kompression\\n18. Du kan använda Mepilex \\nBorder Flex för ett flertal vätskande svårläkta och akuta sår, såsom \\n•Diabetiska f otsår\\n•V enösa bensår\\n•Trycksår\\n•T raumatiska sår\\nObs:\\nMepilex Border Flex kan användas även vid kliniska tecken på infektion under förutsättning att lämplig infektionsbehandling sätts in.\\n  billes.se P108655 HQWC0195_Mepilex_Border_Flex_PS\\n'"
      ]
     },
     "execution_count": 15,
     "metadata": {},
     "output_type": "execute_result"
    }
   ],
   "source": [
    "file_content"
   ]
  },
  {
   "cell_type": "markdown",
   "metadata": {},
   "source": [
    "# Create a vector index of the relevant documents"
   ]
  },
  {
   "cell_type": "code",
   "execution_count": null,
   "metadata": {},
   "outputs": [],
   "source": [
    "text = 'hello world 42'\n",
    "embedding = agent.get_embedding(text)\n",
    "print(embedding)"
   ]
  },
  {
   "cell_type": "code",
   "execution_count": null,
   "metadata": {},
   "outputs": [],
   "source": [
    "embedding_dim = len(embedding)\n",
    "# Create a faiss index\n",
    "index = faiss.IndexFlatIP(embedding_dim)"
   ]
  },
  {
   "cell_type": "code",
   "execution_count": null,
   "metadata": {},
   "outputs": [],
   "source": [
    "def chunk_text(text, max_length=500):\n",
    "    \"\"\"\n",
    "    Splits text into chunks of up to max_length characters.\n",
    "    This is a simple splitter that uses sentence boundaries.\n",
    "    \"\"\"\n",
    "    sentences = re.split(r'(?<=[.!?])\\s+', text)\n",
    "    chunks = []\n",
    "    current_chunk = \"\"\n",
    "    for sentence in sentences:\n",
    "        if len(current_chunk) + len(sentence) <= max_length:\n",
    "            current_chunk += \" \" + sentence if current_chunk else sentence\n",
    "        else:\n",
    "            chunks.append(current_chunk.strip())\n",
    "            current_chunk = sentence\n",
    "    if current_chunk:\n",
    "        chunks.append(current_chunk.strip())\n",
    "    return chunks"
   ]
  },
  {
   "cell_type": "code",
   "execution_count": null,
   "metadata": {},
   "outputs": [],
   "source": [
    "def embed_text(text, file_name):\n",
    "    # Split the text into chunks\n",
    "    chunks = chunk_text(text)\n",
    "    # Embed each chunk\n",
    "    embeddings = []\n",
    "    documents = [] #The documents for each chunk\n",
    "    for i, chunk in enumerate(chunks):\n",
    "        if chunk:\n",
    "            embedding = agent.get_embedding(chunk)\n",
    "            embeddings.append(embedding)\n",
    "\n",
    "            documents.append({\n",
    "                            \"file\": file_name,\n",
    "                            \"chunk_index\": i,\n",
    "                            \"text\": chunk\n",
    "                        })\n",
    "    return embeddings, documents"
   ]
  },
  {
   "cell_type": "code",
   "execution_count": null,
   "metadata": {},
   "outputs": [],
   "source": [
    "embeddings, documents = embed_text(pdf_text, file_path)"
   ]
  },
  {
   "cell_type": "code",
   "execution_count": null,
   "metadata": {},
   "outputs": [],
   "source": [
    "documents"
   ]
  },
  {
   "cell_type": "code",
   "execution_count": null,
   "metadata": {},
   "outputs": [],
   "source": [
    "# Add the embeddings to the index\n",
    "embeddings = np.array(embeddings)\n",
    "index.add(embeddings)"
   ]
  },
  {
   "cell_type": "code",
   "execution_count": null,
   "metadata": {},
   "outputs": [],
   "source": [
    "query = \"Available Sizes\"\n",
    "# Embed the query\n",
    "query_embedding = agent.get_embedding(query)\n",
    "# Search the index\n",
    "k = 3\n",
    "D, I = index.search(np.array([query_embedding]), k)\n",
    "# Display the search results\n",
    "for i in range(k):\n",
    "    print(f\"Result {i+1}\")\n",
    "    print(f\"Distance: {D[0][i]}\")\n",
    "    print(f\"Document: {documents[I[0][i]]['file']}\")\n",
    "    print(f\"Chunk Index: {documents[I[0][i]]['chunk_index']}\")\n",
    "    print(f\"Text: {documents[I[0][i]]['text']}\")\n",
    "    print()"
   ]
  },
  {
   "cell_type": "code",
   "execution_count": null,
   "metadata": {},
   "outputs": [],
   "source": [
    "relevant_pdfs"
   ]
  },
  {
   "cell_type": "code",
   "execution_count": null,
   "metadata": {},
   "outputs": [],
   "source": [
    "relevant_pdfs = pdf_files"
   ]
  },
  {
   "cell_type": "code",
   "execution_count": null,
   "metadata": {},
   "outputs": [],
   "source": []
  },
  {
   "cell_type": "code",
   "execution_count": null,
   "metadata": {},
   "outputs": [],
   "source": []
  }
 ],
 "metadata": {
  "kernelspec": {
   "display_name": "asker",
   "language": "python",
   "name": "python3"
  },
  "language_info": {
   "codemirror_mode": {
    "name": "ipython",
    "version": 3
   },
   "file_extension": ".py",
   "mimetype": "text/x-python",
   "name": "python",
   "nbconvert_exporter": "python",
   "pygments_lexer": "ipython3",
   "version": "3.12.5"
  }
 },
 "nbformat": 4,
 "nbformat_minor": 2
}
